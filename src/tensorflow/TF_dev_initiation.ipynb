{
  "nbformat": 4,
  "nbformat_minor": 0,
  "metadata": {
    "colab": {
      "name": "TF_dev_initiation.ipynb",
      "version": "0.3.2",
      "provenance": [],
      "collapsed_sections": []
    },
    "kernelspec": {
      "name": "python3",
      "display_name": "Python 3"
    },
    "accelerator": "GPU"
  },
  "cells": [
    {
      "metadata": {
        "id": "cvoHCDaGoT4s",
        "colab_type": "text"
      },
      "cell_type": "markdown",
      "source": [
        "# TensorFlow Coding session - IMSP 1st DATA Science school\n",
        "\n",
        "In this session we will make first steps with TF coding in colab environment."
      ]
    },
    {
      "metadata": {
        "id": "TG-NrG18dBJ5",
        "colab_type": "text"
      },
      "cell_type": "markdown",
      "source": [
        "Define from the code below that you want to access your Google drive contents"
      ]
    },
    {
      "metadata": {
        "id": "xSQn1MXP_aOp",
        "colab_type": "code",
        "colab": {}
      },
      "cell_type": "code",
      "source": [
        "from google.colab import drive\n",
        "drive.mount('/content/drive/')"
      ],
      "execution_count": 0,
      "outputs": []
    },
    {
      "metadata": {
        "id": "DablL11rduDR",
        "colab_type": "text"
      },
      "cell_type": "markdown",
      "source": [
        "After giving authorisation to this Notebook to access your Google Drive documents contents you can now list you Drive Documents. Using the commands below."
      ]
    },
    {
      "metadata": {
        "id": "-_sW-7cAdreb",
        "colab_type": "code",
        "colab": {
          "base_uri": "https://localhost:8080/",
          "height": 34
        },
        "outputId": "7b69315e-fe44-4c0f-9465-eaba77b6a4c6"
      },
      "cell_type": "code",
      "source": [
        "!ls \"/content/drive/\""
      ],
      "execution_count": 3,
      "outputs": [
        {
          "output_type": "stream",
          "text": [
            "'My Drive'\n"
          ],
          "name": "stdout"
        }
      ]
    },
    {
      "metadata": {
        "id": "DeMM8xAifbOp",
        "colab_type": "text"
      },
      "cell_type": "markdown",
      "source": [
        "From here one, you can install your packages using \n",
        "\n",
        "\n",
        "\n",
        "```\n",
        " \"!apt-get install packages\" or\n",
        " \"!pip install -q packages\"\n",
        "```\n",
        "\n",
        "\n",
        "You are also able to git clone or wget your codes, data and files from external sources.\n",
        "==> Upload a file to your drive \n",
        "\n",
        "\n",
        "```\n",
        "\"!wget file_url -P \"/content/drive/My Drive/ColabDev\" \" \n",
        "```\n",
        "\n",
        "\n",
        "==> Git clone your Git project \n",
        "\n",
        "```\n",
        "\"!git clone Git_Repository_Url\"\n",
        "```\n",
        "\n",
        "You can navigate in your Drive folder and especially change working directory with the command below:\n",
        "\n",
        "```\n",
        "\"import os\"\n",
        "\"os.chdir(\"drive/CodelabDev\")\"\n",
        "```\n",
        "\n",
        "\n",
        "\n",
        "Using the \"!ls\" command allows you to list the content.\n"
      ]
    },
    {
      "metadata": {
        "id": "tHclUIBFiF_-",
        "colab_type": "text"
      },
      "cell_type": "markdown",
      "source": [
        "The code below let you know wether you are using a GPU or TPU or CPU device at execution. Note that tensorflow environment is already provided."
      ]
    },
    {
      "metadata": {
        "id": "xZs0thTdhkdU",
        "colab_type": "code",
        "colab": {}
      },
      "cell_type": "code",
      "source": [
        "import tensorflow as tf\n",
        "tf.test.gpu_device_name()"
      ],
      "execution_count": 0,
      "outputs": []
    },
    {
      "metadata": {
        "id": "0bD9YMTMzyhH",
        "colab_type": "code",
        "colab": {}
      },
      "cell_type": "code",
      "source": [
        "import os\n",
        "os.chdir(\"My Drive/ColabDev\")\n",
        "!ls"
      ],
      "execution_count": 0,
      "outputs": []
    },
    {
      "metadata": {
        "id": "BNB-xtmJnKbD",
        "colab_type": "text"
      },
      "cell_type": "markdown",
      "source": [
        "To Run a tensorboard from codelabs we will use this repo :\n",
        "https://github.com/mixuala/colab_utils .\n",
        "The code below allows to load a VM that will expose the tensorboard to a public url for monitoring."
      ]
    },
    {
      "metadata": {
        "id": "h4O9ONWxhUDj",
        "colab_type": "code",
        "colab": {}
      },
      "cell_type": "code",
      "source": [
        "# You can change the directory name\n",
        "LOG_DIR = 'tb_logs'\n",
        "\n",
        "!wget https://bin.equinox.io/c/4VmDzA7iaHb/ngrok-stable-linux-amd64.zip\n",
        "!unzip ngrok-stable-linux-amd64.zip\n",
        "\n",
        "import os\n",
        "if not os.path.exists(LOG_DIR):\n",
        "  os.makedirs(LOG_DIR)\n",
        "  \n",
        "get_ipython().system_raw(\n",
        "    'tensorboard --logdir {} --host 0.0.0.0 --port 6006 &'\n",
        "    .format(LOG_DIR))\n",
        "\n",
        "get_ipython().system_raw('./ngrok http 6006 &')\n",
        "\n",
        "!curl -s http://localhost:4040/api/tunnels | python3 -c \\\n",
        "    \"import sys, json; print(json.load(sys.stdin)['tunnels'][0]['public_url'])\""
      ],
      "execution_count": 0,
      "outputs": []
    },
    {
      "metadata": {
        "id": "OoOA0agAqShC",
        "colab_type": "text"
      },
      "cell_type": "markdown",
      "source": [
        "From now TensorBoard updates are stored in the defined repository and we can see the changes at the URL given above. Let's write our code now."
      ]
    },
    {
      "metadata": {
        "id": "tSFosH6UrWYC",
        "colab_type": "code",
        "colab": {}
      },
      "cell_type": "code",
      "source": [
        "import numpy as np\n",
        "\n",
        "X = tf.placeholder(dtype=tf.float32, shape = [None,100])\n",
        "W = tf.Variable(tf.ones([100]), name=\"w\")\n",
        "b = tf.Variable(tf.ones([100]), name = \"b\")\n",
        "a = tf.constant(2.0)\n",
        "\n",
        "Y = X*W + tf.add(b,a)"
      ],
      "execution_count": 0,
      "outputs": []
    },
    {
      "metadata": {
        "id": "D7BnuCBntjBe",
        "colab_type": "code",
        "colab": {}
      },
      "cell_type": "code",
      "source": [
        "#init\n",
        "init = tf.global_variables_initializer()\n",
        "\n",
        "sess = tf.Session()\n",
        "sess.run(init)\n",
        "\n",
        "file_writer = tf.summary.FileWriter('tb_logs', sess.graph)\n",
        "\n",
        "x_in = np.random.randn(1,100)\n",
        "\n",
        "Y_ = sess.run(Y, feed_dict = {X : x_in})\n",
        "\n",
        "print(Y_)\n",
        "#sess.close()"
      ],
      "execution_count": 0,
      "outputs": []
    }
  ]
}